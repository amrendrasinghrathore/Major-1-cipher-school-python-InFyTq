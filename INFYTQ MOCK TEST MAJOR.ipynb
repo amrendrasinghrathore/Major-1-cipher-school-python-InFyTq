{
 "cells": [
  {
   "cell_type": "code",
   "execution_count": 1,
   "id": "4c43e8e4",
   "metadata": {},
   "outputs": [
    {
     "name": "stdout",
     "output_type": "stream",
     "text": [
      "[0, 1]\n"
     ]
    }
   ],
   "source": [
    "#Answer 1\n",
    "\n",
    "def two_sum(nums,target):\n",
    "    d = {}\n",
    "    for n,x in enumerate(nums):\n",
    "        try:\n",
    "            return [d[x], n]\n",
    "        except KeyError:\n",
    "            d.setdefault(target - x,n)\n",
    "\n",
    "nums = [2,7,11,15]\n",
    "target = 9\n",
    "print(two_sum(nums,target))  "
   ]
  },
  {
   "cell_type": "code",
   "execution_count": 2,
   "id": "f79b53f0",
   "metadata": {},
   "outputs": [
    {
     "name": "stdout",
     "output_type": "stream",
     "text": [
      "5\n",
      "Harry\n",
      "37.21\n",
      "Berry\n",
      "37.21\n",
      "Tina\n",
      "37.2\n",
      "Akriti\n",
      "41\n",
      "Harsh\n",
      "39\n",
      "Berry\n",
      "Harry\n"
     ]
    }
   ],
   "source": [
    "#Answer 2\n",
    "marks = {}\n",
    "n = int(input())\n",
    "for x in range(n):\n",
    "    name = input()\n",
    "    mark = float(input())\n",
    "    \n",
    "    if mark in marks:\n",
    "        marks[mark].append(name)\n",
    "    else:\n",
    "        marks[mark] = [name]\n",
    "        \n",
    "all_marks = list(set(marks.keys()))\n",
    "all_marks.sort()\n",
    "names_ordered = marks[all_marks[1]]\n",
    "names_ordered.sort()\n",
    "\n",
    "for name in names_ordered:\n",
    "    print(name)"
   ]
  }
 ],
 "metadata": {
  "kernelspec": {
   "display_name": "Python 3 (ipykernel)",
   "language": "python",
   "name": "python3"
  },
  "language_info": {
   "codemirror_mode": {
    "name": "ipython",
    "version": 3
   },
   "file_extension": ".py",
   "mimetype": "text/x-python",
   "name": "python",
   "nbconvert_exporter": "python",
   "pygments_lexer": "ipython3",
   "version": "3.9.7"
  }
 },
 "nbformat": 4,
 "nbformat_minor": 5
}
